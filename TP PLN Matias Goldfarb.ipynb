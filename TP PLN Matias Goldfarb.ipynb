{
  "nbformat": 4,
  "nbformat_minor": 0,
  "metadata": {
    "colab": {
      "provenance": []
    },
    "kernelspec": {
      "name": "python3",
      "display_name": "Python 3"
    },
    "language_info": {
      "name": "python"
    }
  },
  "cells": [
    {
      "cell_type": "code",
      "source": [
        "!pip install requests\n",
        "!pip install beautifulsoup4\n",
        "!pip install spacy\n",
        "import nltk\n",
        "nltk.download('all')\n",
        "from\tnltk\timport\tword_tokenize\n",
        "from nltk import re\n",
        "palabra = \"eth\""
      ],
      "metadata": {
        "id": "IhOlbWEIytZz"
      },
      "execution_count": null,
      "outputs": []
    },
    {
      "cell_type": "code",
      "source": [
        "import requests\n",
        "from textblob import TextBlob\n",
        "from bs4 import BeautifulSoup\n",
        "\n",
        "def scrape_url(url : str):\n",
        "  polaridadTot = 0\n",
        "  texto_com = \"\"\n",
        "  response = requests.get(url)\n",
        "  soup = BeautifulSoup(response.content, \"html.parser\")\n",
        "  paragraphs = soup.find_all('p')\n",
        "  titulo = soup.title.text.strip()\n",
        "  texto_com = \" \".join(paragraph.text for paragraph in paragraphs)\n",
        "  polaridad = TextBlob(texto_com).sentiment.polarity\n",
        " # if polaridad > 0:\n",
        "  #  print(titulo + \" positivo \")\n",
        "  #elif polaridad < 0:\n",
        "   # print(titulo + \" negativo \")\n",
        "  #else:\n",
        "   # print(titulo + \" neutro \")\n",
        "  #print(polaridad)\n",
        "  return {\"title\": titulo, \"body\": texto_com, \"url\": url}"
      ],
      "metadata": {
        "id": "rVCJRYUhS2tb"
      },
      "execution_count": null,
      "outputs": []
    },
    {
      "cell_type": "code",
      "execution_count": null,
      "metadata": {
        "id": "jqTF7eNsBNOO"
      },
      "outputs": [],
      "source": [
        "#google scraping\n",
        "from googlesearch import search\n",
        "#help(search)\n",
        "def scrape_google():\n",
        "\tl = []\n",
        "\tresults = search(palabra,stop=5,tpe=\"nws\")\n",
        "\tfor r in results:\n",
        "\t\tl.append(scrape_url(r))\n",
        "\treturn l"
      ]
    },
    {
      "cell_type": "code",
      "source": [
        "#bing scraping\n",
        "import requests\n",
        "import lxml\n",
        "from bs4 import BeautifulSoup\n",
        "\n",
        "def scrape_bing():\n",
        "  l=[]\n",
        "  target_url=\"https://www.bing.com/news/search?q=\" + palabra\n",
        "  headers={\"User-Agent\":\"Mozilla/5.0 (Windows NT 10.0; Win64; x64) AppleWebKit/537.36 (KHTML, like Gecko) Chrome/107.0.0.0 Safari/537.36\"}\n",
        "  resp=requests.get(target_url,headers=headers)\n",
        "  soup = BeautifulSoup(resp.text, \"lxml\")\n",
        "  for result in soup.select('.card-with-cluster')[:5]:\n",
        "    bingUrl = result.select_one('.title')['href']\n",
        "    l.append(scrape_url(bingUrl))\n",
        "  return l"
      ],
      "metadata": {
        "id": "eMjg0CJq9fF8"
      },
      "execution_count": null,
      "outputs": []
    },
    {
      "cell_type": "code",
      "source": [
        "#cointelegraph scraping\n",
        "import requests\n",
        "import lxml\n",
        "from bs4 import BeautifulSoup\n",
        "\n",
        "def scrape_cointelegraph():\n",
        "  l = []\n",
        "  url = 'https://cointelegraph.com/tags/ethereum'\n",
        "  headers={\"User-Agent\":\"Mozilla/5.0 (Windows NT 10.0; Win64; x64) AppleWebKit/537.36 (KHTML, like Gecko) Chrome/107.0.0.0 Safari/537.36\"}\n",
        "  response = requests.get(url,headers=headers)\n",
        "  soup = BeautifulSoup(response.content, 'html.parser')\n",
        "  news_elements = soup.find_all(class_='post-card-inline__title-link')[:2]\n",
        "  for news_element in news_elements:\n",
        "    link = news_element['href']\n",
        "    l.append(scrape_url(\"https://cointelegraph.com\" + link))\n",
        "  return l"
      ],
      "metadata": {
        "id": "8-xvLlNgHIEo"
      },
      "execution_count": null,
      "outputs": []
    },
    {
      "cell_type": "code",
      "source": [
        "#agarrar palabras con sentimiento\n",
        "from textblob import TextBlob\n",
        "def filtrarPorPolaridad(listaPal):\n",
        "  l = []\n",
        "  for palabra in listaPal:\n",
        "    if TextBlob(palabra).sentiment.polarity != 0:\n",
        "      l.append(palabra)\n",
        "  return(l)"
      ],
      "metadata": {
        "id": "pyeMi2jRSYEn"
      },
      "execution_count": null,
      "outputs": []
    },
    {
      "cell_type": "code",
      "source": [
        "#calcular frecuencia por palabra\n",
        "def listaPalabrasDicFrec(listaPal):\n",
        "  frecuenciaPalab = [listaPal.count(p) for p in listaPalabras]\n",
        "  return dict(list(zip(listaPalabras,frecuenciaPalab)))"
      ],
      "metadata": {
        "id": "3_Al5_8FCxif"
      },
      "execution_count": null,
      "outputs": []
    },
    {
      "cell_type": "code",
      "source": [
        "#ordenar palabras por frequencia\n",
        "def ordenaDicFrec(dicfrec):\n",
        "    aux = [(dicfrec[key], key) for key in dicfrec]\n",
        "    aux.sort()\n",
        "    aux.reverse()\n",
        "    return aux"
      ],
      "metadata": {
        "id": "Ww35AF6zDTSP"
      },
      "execution_count": null,
      "outputs": []
    },
    {
      "cell_type": "code",
      "source": [
        "#Frequency\n",
        "def palabrasPrin(palabras,num):\n",
        "  listaFreq = listaPalabrasDicFrec(palabras)\n",
        "  listaFreqOrd = ordenaDicFrec(listaFreq)\n",
        "  listaPrin = listaFreqOrd[:num]\n",
        "  return listaPrin"
      ],
      "metadata": {
        "id": "cNFAhlqTDXsq"
      },
      "execution_count": null,
      "outputs": []
    },
    {
      "cell_type": "code",
      "source": [
        "#TiemStamp\n",
        "import calendar\n",
        "import time\n",
        "def time_Stamp():\n",
        "  time_stam = time.time()\n",
        "  return time_stam"
      ],
      "metadata": {
        "id": "e0CO7PIIXege"
      },
      "execution_count": null,
      "outputs": []
    },
    {
      "cell_type": "code",
      "source": [
        "#Ner\n",
        "import spacy\n",
        "def devolverNer(textoTot):\n",
        "  nlp = spacy.load(\"en_core_web_sm\")\n",
        "  ner_categories = [\"PERSON\",\"ORG\",\"GPE\",\"PRODUCT\"]\n",
        "  listaNer = []\n",
        "  doc = nlp(textoTot)\n",
        "  entidades = []\n",
        "  for ent in doc.ents:\n",
        "    if ent.label_ in ner_categories:\n",
        "      entidades.append((ent.text,ent.label_))\n",
        "  for entity,category in entidades:\n",
        "    listaNer.append(entity)\n",
        "  return set(listaNer)"
      ],
      "metadata": {
        "id": "F4eH76VhoiCl"
      },
      "execution_count": null,
      "outputs": []
    },
    {
      "cell_type": "code",
      "source": [
        "#Sentimiento\n",
        "from textblob import TextBlob\n",
        "def sentimientoTexto(texto):\n",
        "  polaridad = TextBlob(texto).sentiment.polarity\n",
        "  if polaridad > 0:\n",
        "    return \"positivo\"\n",
        "  elif polaridad > 0:\n",
        "    return \"negativo\"\n",
        "  else:\n",
        "    return \"neutro\""
      ],
      "metadata": {
        "id": "9FWzw0P9EOtj"
      },
      "execution_count": null,
      "outputs": []
    },
    {
      "cell_type": "code",
      "source": [
        "#Base de Datos\n",
        "from csv import writer\n",
        "\n",
        "def cargarBaseDeDatos(sent,time,palPrinc,ner):\n",
        "  list_data = [sent,time,palPrinc,ner]\n",
        "  with open(\"BaseDeDatos.csv\", \"a\", newline=\"\") as f_object:\n",
        "      writer_object = writer(f_object)\n",
        "      writer_object.writerow(list_data)\n",
        "      f_object.close()"
      ],
      "metadata": {
        "id": "t46CKbrsMzzl"
      },
      "execution_count": null,
      "outputs": []
    },
    {
      "cell_type": "code",
      "source": [
        "#crear base de datos\n",
        "cargarBaseDeDatos(\"Sentimiento\",\"Time Stamp\",\"Palabras Principales\",\"Ner\")"
      ],
      "metadata": {
        "id": "X49SiIEbHxfP"
      },
      "execution_count": null,
      "outputs": []
    },
    {
      "cell_type": "code",
      "source": [
        "def tokenizarTexto(texto):\n",
        "  palabrasTotal = [word\tfor\tword\tin\tword_tokenize(texto.lower())\tif\tre.search(\"\\w\",\tword)]\n",
        "  return palabrasTotal"
      ],
      "metadata": {
        "id": "9sVJt8-JJkTE"
      },
      "execution_count": null,
      "outputs": []
    },
    {
      "cell_type": "code",
      "source": [
        "listaTotal = scrape_bing() + scrape_google() + scrape_cointelegraph()\n",
        "listaPalabras = []\n",
        "textoTotal = \" \".join(noticia[\"body\"] for noticia in listaTotal)\n",
        "for pagina in listaTotal:\n",
        "  listaPalabras = listaPalabras + word_tokenize(textoTotal.lower())\n",
        "listaFiltrada = filtrarPorPolaridad(listaPalabras)\n",
        "palPrin = palabrasPrin(listaFiltrada,10)\n",
        "sentimiento = sentimientoTexto(textoTotal)\n",
        "timeStamp = time_Stamp()\n",
        "palabrasNer = devolverNer(textoTotal)\n",
        "cargarBaseDeDatos(sentimiento,timeStamp,palPrin,palabrasNer)\n",
        "\n"
      ],
      "metadata": {
        "id": "EPeHn-C4UMHX"
      },
      "execution_count": null,
      "outputs": []
    }
  ]
}